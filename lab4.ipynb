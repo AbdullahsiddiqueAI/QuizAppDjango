{
 "cells": [
  {
   "cell_type": "code",
   "execution_count": 2,
   "metadata": {},
   "outputs": [
    {
     "name": "stdout",
     "output_type": "stream",
     "text": [
      "black\n",
      "pink\n",
      "white\n",
      "yellow\n",
      "['black', 'pink', 'white', 'yellow', 'blue']\n"
     ]
    }
   ],
   "source": [
    "colors=[\"black\",\"pink\",\"white\",\"yellow\"]\n",
    "for i in colors:\n",
    "    print(i)\n",
    "colors.append(\"blue\")\n",
    "print(colors)"
   ]
  },
  {
   "cell_type": "markdown",
   "metadata": {},
   "source": [
    "### Task 2:"
   ]
  },
  {
   "cell_type": "code",
   "execution_count": 4,
   "metadata": {},
   "outputs": [
    {
     "name": "stdout",
     "output_type": "stream",
     "text": [
      "Lahore\n",
      "30\n",
      "Islamabad\n",
      "35\n",
      "karachi\n",
      "45\n",
      "Faisalabad\n",
      "40\n",
      "Multab\n",
      "48\n"
     ]
    }
   ],
   "source": [
    "city_tuple=(\"Lahore\",30,\"Islamabad\",35,\"karachi\",45,\"Faisalabad\",40,\"Multab\",48)\n",
    "for i in city_tuple:\n",
    " print(i)"
   ]
  }
 ],
 "metadata": {
  "kernelspec": {
   "display_name": "Python 3",
   "language": "python",
   "name": "python3"
  },
  "language_info": {
   "codemirror_mode": {
    "name": "ipython",
    "version": 3
   },
   "file_extension": ".py",
   "mimetype": "text/x-python",
   "name": "python",
   "nbconvert_exporter": "python",
   "pygments_lexer": "ipython3",
   "version": "3.12.0"
  }
 },
 "nbformat": 4,
 "nbformat_minor": 2
}
