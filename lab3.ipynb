{
 "cells": [
  {
   "cell_type": "code",
   "execution_count": 6,
   "metadata": {},
   "outputs": [
    {
     "name": "stdout",
     "output_type": "stream",
     "text": [
      "7\n",
      "-1\n",
      "0.75\n",
      "12\n"
     ]
    }
   ],
   "source": [
    "num1=3\n",
    "num2=4\n",
    "Addition=num1+num2\n",
    "Subtraction=num1-num2\n",
    "Division=num1/num2\n",
    "Multiplication=num1*num2\n",
    "\n",
    "print(Addition)\n",
    "print(Subtraction)\n",
    "print(Division)\n",
    "print(Multiplication)"
   ]
  },
  {
   "cell_type": "markdown",
   "metadata": {},
   "source": [
    "### Task 2:\n"
   ]
  },
  {
   "cell_type": "code",
   "execution_count": 11,
   "metadata": {},
   "outputs": [
    {
     "name": "stdout",
     "output_type": "stream",
     "text": [
      "Number is negative\n"
     ]
    }
   ],
   "source": [
    "input_num=int(input(\"Enter a number:\"))\n",
    "if input_num > 0:\n",
    "    print(\"Number is Positive\")\n",
    "elif input_num < 0:\n",
    "    print(\"Number is negative\")\n",
    "else:\n",
    "    print(\"Number is zero\")    "
   ]
  },
  {
   "cell_type": "markdown",
   "metadata": {},
   "source": [
    "### Task 3:"
   ]
  },
  {
   "cell_type": "code",
   "execution_count": 2,
   "metadata": {},
   "outputs": [
    {
     "name": "stdout",
     "output_type": "stream",
     "text": [
      "Eligibal to drive\n"
     ]
    }
   ],
   "source": [
    "Age=40\n",
    "Driving_license=True\n",
    "\n",
    "if Age >=18 and Driving_license:\n",
    "    print(\"Eligibal to drive\")\n",
    "else:\n",
    "    print(\"Not Eligibal\")\n",
    "\n",
    "    "
   ]
  },
  {
   "cell_type": "markdown",
   "metadata": {},
   "source": [
    "### Task 4:\n"
   ]
  },
  {
   "cell_type": "code",
   "execution_count": 5,
   "metadata": {},
   "outputs": [
    {
     "name": "stdout",
     "output_type": "stream",
     "text": [
      "Python \n"
     ]
    }
   ],
   "source": [
    "String=\"Python Programming\"\n",
    "substring=String[:7]\n",
    "print(substring)"
   ]
  },
  {
   "cell_type": "markdown",
   "metadata": {},
   "source": [
    "### Task 5:"
   ]
  },
  {
   "cell_type": "code",
   "execution_count": 11,
   "metadata": {},
   "outputs": [
    {
     "name": "stdout",
     "output_type": "stream",
     "text": [
      "Ahmed \n",
      "Ali\n"
     ]
    }
   ],
   "source": [
    "#name=input(\"Enter Full name:\")\n",
    "#substring=name[]\n",
    "Full_name=\"Ahmed Ali\"\n",
    "First_name=Full_name[:6]\n",
    "print(First_name)\n",
    "\n",
    "Last_name=Full_name[6:9]\n",
    "print(Last_name)"
   ]
  }
 ],
 "metadata": {
  "kernelspec": {
   "display_name": "Python 3",
   "language": "python",
   "name": "python3"
  },
  "language_info": {
   "codemirror_mode": {
    "name": "ipython",
    "version": 3
   },
   "file_extension": ".py",
   "mimetype": "text/x-python",
   "name": "python",
   "nbconvert_exporter": "python",
   "pygments_lexer": "ipython3",
   "version": "3.12.0"
  }
 },
 "nbformat": 4,
 "nbformat_minor": 2
}
