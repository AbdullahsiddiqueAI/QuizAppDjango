{
 "cells": [
  {
   "cell_type": "code",
   "execution_count": 41,
   "metadata": {},
   "outputs": [
    {
     "name": "stdout",
     "output_type": "stream",
     "text": [
      "Number as string: 2\n"
     ]
    },
    {
     "data": {
      "text/plain": [
       "str"
      ]
     },
     "execution_count": 41,
     "metadata": {},
     "output_type": "execute_result"
    }
   ],
   "source": [
    "user_input_num=input(\"Enter a number as string:\")\n",
    "print(\"Number as string:\", user_input_num)\n",
    "type(user_input_num)\n"
   ]
  },
  {
   "cell_type": "markdown",
   "metadata": {},
   "source": [
    "The above example show that anything we entered its already in String datatype in python.so we do not need to convert."
   ]
  },
  {
   "cell_type": "markdown",
   "metadata": {},
   "source": [
    "# Task 1:"
   ]
  },
  {
   "cell_type": "markdown",
   "metadata": {},
   "source": [
    "Use type casting to convert the string into an integer amd also gives the square root of an entered integer.\n"
   ]
  },
  {
   "cell_type": "code",
   "execution_count": 36,
   "metadata": {},
   "outputs": [
    {
     "name": "stdout",
     "output_type": "stream",
     "text": [
      "Number as string: 2\n",
      "Number as integer: 2\n",
      "The square root of an integer: 4\n"
     ]
    }
   ],
   "source": [
    "user_input_num=str(input(\"Enter a number as string:\"))\n",
    "print(\"Number as string:\", user_input_num)\n",
    "\n",
    "num_as_int = int(user_input_num)\n",
    "print(\"Number as integer:\", num_as_int)\n",
    "print(\"The square root of an integer:\",num_as_int*num_as_int)"
   ]
  },
  {
   "cell_type": "markdown",
   "metadata": {},
   "source": [
    "# Task 2:"
   ]
  },
  {
   "cell_type": "code",
   "execution_count": 28,
   "metadata": {},
   "outputs": [
    {
     "name": "stdout",
     "output_type": "stream",
     "text": [
      "Float value: 4.5\n",
      "Numeric value as integer: 4\n",
      "The square root of an integer: 16\n"
     ]
    }
   ],
   "source": [
    "user_input_float = float(input(\"Enter a floating point number:\"))\n",
    "print(\"Float value:\", user_input_float)\n",
    "num_as_int=int(user_input_float)\n",
    "print(\"Numeric value as integer:\", num_as_int)\n",
    "\n",
    "print(\"The square root of an integer:\",num_as_int*num_as_int)"
   ]
  },
  {
   "cell_type": "markdown",
   "metadata": {},
   "source": [
    "# Task 3:"
   ]
  },
  {
   "cell_type": "code",
   "execution_count": 32,
   "metadata": {},
   "outputs": [
    {
     "name": "stdout",
     "output_type": "stream",
     "text": [
      "User Full Nmae: Rehma Ijaz\n",
      "Concatinate two strings: Ahmed Ali\n"
     ]
    }
   ],
   "source": [
    "user_full_name = input(\"User Enter full name:\")\n",
    "print(\"User Full Nmae:\",user_full_name)\n",
    "str1=\"Ahmed\"\n",
    "str2=\"Ali\"\n",
    "concatinate= str1 + \" \" + str2\n",
    "print(\"Concatinate two strings:\",concatinate)"
   ]
  },
  {
   "cell_type": "markdown",
   "metadata": {},
   "source": [
    "# Task 4:"
   ]
  },
  {
   "cell_type": "code",
   "execution_count": 35,
   "metadata": {},
   "outputs": [
    {
     "name": "stdout",
     "output_type": "stream",
     "text": [
      "I love cats\n",
      "I love animals\n"
     ]
    }
   ],
   "source": [
    "string=\"I love cats\"\n",
    "print(\"I love cats\")\n",
    "new_string=string.replace(\"cats\",\"animals\")\n",
    "print(new_string)"
   ]
  }
 ],
 "metadata": {
  "kernelspec": {
   "display_name": "Python 3",
   "language": "python",
   "name": "python3"
  },
  "language_info": {
   "codemirror_mode": {
    "name": "ipython",
    "version": 3
   },
   "file_extension": ".py",
   "mimetype": "text/x-python",
   "name": "python",
   "nbconvert_exporter": "python",
   "pygments_lexer": "ipython3",
   "version": "3.12.0"
  }
 },
 "nbformat": 4,
 "nbformat_minor": 2
}
