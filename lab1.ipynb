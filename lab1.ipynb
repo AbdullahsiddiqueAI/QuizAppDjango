{
 "cells": [
  {
   "cell_type": "code",
   "execution_count": 10,
   "metadata": {},
   "outputs": [
    {
     "name": "stdout",
     "output_type": "stream",
     "text": [
      "Name: Rehma <class 'str'> \n",
      "Age: 21 <class 'int'> \n",
      "Db: (4, 3, 2002) <class 'tuple'> \n",
      "rollno: 6 <class 'int'> \n",
      "gender: Female <class 'str'>\n"
     ]
    }
   ],
   "source": [
    "Name=\"Rehma\"\n",
    "Age=21\n",
    "Db=4,3,2002\n",
    "rollno=6\n",
    "gender=\"Female\"\n",
    "print(\"Name:\",Name, type(Name), \"\\nAge:\",Age ,type(Age), \"\\nDb:\", Db, type(Db),\"\\nrollno:\",rollno, type(rollno), \"\\ngender:\", gender,type(gender), )"
   ]
  },
  {
   "cell_type": "code",
   "execution_count": 2,
   "metadata": {},
   "outputs": [
    {
     "name": "stdout",
     "output_type": "stream",
     "text": [
      "******************** \n",
      "*\t\t   *\n",
      "*\t\t   *\n",
      "*\t\t   *\n",
      "*\t\t   * \n",
      " *******************\n"
     ]
    }
   ],
   "source": [
    "print(\"********************\",\"\\n*\\t\\t   *\"*4,\"\\n\",\"*******************\")\n",
    " "
   ]
  },
  {
   "cell_type": "markdown",
   "metadata": {},
   "source": [
    "# Enter height in feet and print in meters"
   ]
  },
  {
   "cell_type": "code",
   "execution_count": 1,
   "metadata": {},
   "outputs": [
    {
     "name": "stdout",
     "output_type": "stream",
     "text": [
      "The height in feet is: 5\n",
      "The height in meter: 1.5239256324291375\n"
     ]
    }
   ],
   "source": [
    "height=5\n",
    "print(\"The height in feet is:\",height)\n",
    "print(\"The height in meter:\",height/3.281)"
   ]
  },
  {
   "cell_type": "markdown",
   "metadata": {},
   "source": [
    "# Q:4"
   ]
  },
  {
   "cell_type": "code",
   "execution_count": 3,
   "metadata": {},
   "outputs": [
    {
     "name": "stdout",
     "output_type": "stream",
     "text": [
      "******************** \n",
      "*\t  *\t  *\n",
      "*\t  *\t  * \n",
      " ******************* \n",
      "*\t  *\t  *\n",
      "*\t  *\t  * \n",
      " *******************\n"
     ]
    }
   ],
   "source": [
    "print(\"********************\",\"\\n*\\t  *\\t  *\"*2,\"\\n\",\"*******************\",\"\\n*\\t  *\\t  *\"*2,\"\\n\",\"*******************\")"
   ]
  }
 ],
 "metadata": {
  "kernelspec": {
   "display_name": "Python 3",
   "language": "python",
   "name": "python3"
  },
  "language_info": {
   "codemirror_mode": {
    "name": "ipython",
    "version": 3
   },
   "file_extension": ".py",
   "mimetype": "text/x-python",
   "name": "python",
   "nbconvert_exporter": "python",
   "pygments_lexer": "ipython3",
   "version": "3.12.0"
  }
 },
 "nbformat": 4,
 "nbformat_minor": 2
}
